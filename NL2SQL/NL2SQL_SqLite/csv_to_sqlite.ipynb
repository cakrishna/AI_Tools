{
 "cells": [
  {
   "cell_type": "markdown",
   "metadata": {},
   "source": [
    "## CSV to Database"
   ]
  },
  {
   "cell_type": "markdown",
   "metadata": {},
   "source": [
    "### Part 1: Extracting and creating a movie database"
   ]
  },
  {
   "cell_type": "markdown",
   "metadata": {},
   "source": [
    "### import csv"
   ]
  },
  {
   "cell_type": "code",
   "execution_count": 1,
   "metadata": {},
   "outputs": [
    {
     "data": {
      "text/html": [
       "<div>\n",
       "<style scoped>\n",
       "    .dataframe tbody tr th:only-of-type {\n",
       "        vertical-align: middle;\n",
       "    }\n",
       "\n",
       "    .dataframe tbody tr th {\n",
       "        vertical-align: top;\n",
       "    }\n",
       "\n",
       "    .dataframe thead th {\n",
       "        text-align: right;\n",
       "    }\n",
       "</style>\n",
       "<table border=\"1\" class=\"dataframe\">\n",
       "  <thead>\n",
       "    <tr style=\"text-align: right;\">\n",
       "      <th></th>\n",
       "      <th>Category</th>\n",
       "      <th>Sub Category</th>\n",
       "      <th>Title</th>\n",
       "      <th>Address</th>\n",
       "      <th>Country</th>\n",
       "      <th>State</th>\n",
       "      <th>City</th>\n",
       "      <th>Postal Code</th>\n",
       "      <th>Short Description</th>\n",
       "      <th>Images</th>\n",
       "      <th>Long Description</th>\n",
       "      <th>Ratings</th>\n",
       "      <th>Tags</th>\n",
       "    </tr>\n",
       "  </thead>\n",
       "  <tbody>\n",
       "    <tr>\n",
       "      <th>0</th>\n",
       "      <td>Dine</td>\n",
       "      <td>Bars</td>\n",
       "      <td>Atmosphere</td>\n",
       "      <td>80F, China World Summit Wing, 1 Jianguomenwai St</td>\n",
       "      <td>China</td>\n",
       "      <td>Beijing</td>\n",
       "      <td>Beijing</td>\n",
       "      <td>100004</td>\n",
       "      <td>Sky-high cocktails with unmatched views.</td>\n",
       "      <td>NaN</td>\n",
       "      <td>Perched on the 80th floor of the Shangri-La’s ...</td>\n",
       "      <td>4.8</td>\n",
       "      <td>sky-high, cocktails, romantic, business, luxury</td>\n",
       "    </tr>\n",
       "    <tr>\n",
       "      <th>1</th>\n",
       "      <td>Dine</td>\n",
       "      <td>Bars</td>\n",
       "      <td>Janes and Hooch</td>\n",
       "      <td>Courtyard 4, Gongti Beilu, Chaoyang District</td>\n",
       "      <td>China</td>\n",
       "      <td>Beijing</td>\n",
       "      <td>Beijing</td>\n",
       "      <td>100027</td>\n",
       "      <td>Speakeasy vibes with bold drinks.</td>\n",
       "      <td>NaN</td>\n",
       "      <td>Tucked away in Sanlitun’s buzzing nightlife hu...</td>\n",
       "      <td>4.5</td>\n",
       "      <td>speakeasy, cocktails, lively, vintage, nightlife</td>\n",
       "    </tr>\n",
       "    <tr>\n",
       "      <th>2</th>\n",
       "      <td>Dine</td>\n",
       "      <td>Bars</td>\n",
       "      <td>Centro</td>\n",
       "      <td>Lobby, Kerry Hotel, 1 Guanghua Rd, Chaoyang</td>\n",
       "      <td>China</td>\n",
       "      <td>Beijing</td>\n",
       "      <td>Beijing</td>\n",
       "      <td>100020</td>\n",
       "      <td>Jazz nights and giant G&amp;Ts.</td>\n",
       "      <td>NaN</td>\n",
       "      <td>Located in the Kerry Hotel’s lobby, Centro com...</td>\n",
       "      <td>4.6</td>\n",
       "      <td>jazz, gin, elegant, relaxed, sophisticated</td>\n",
       "    </tr>\n",
       "    <tr>\n",
       "      <th>3</th>\n",
       "      <td>Dine</td>\n",
       "      <td>Bars</td>\n",
       "      <td>Long Jing</td>\n",
       "      <td>2A Gongti Donglu, Chaoyang District</td>\n",
       "      <td>China</td>\n",
       "      <td>Beijing</td>\n",
       "      <td>Beijing</td>\n",
       "      <td>100027</td>\n",
       "      <td>Tea-infused cocktails in a chic setting.</td>\n",
       "      <td>NaN</td>\n",
       "      <td>By day a teahouse, Long Jing transforms into a...</td>\n",
       "      <td>4.4</td>\n",
       "      <td>tea-infused, chic, diverse, patio, inclusive</td>\n",
       "    </tr>\n",
       "    <tr>\n",
       "      <th>4</th>\n",
       "      <td>Dine</td>\n",
       "      <td>Bars</td>\n",
       "      <td>The Local</td>\n",
       "      <td>Courtyard 4, Gongti Beilu, Chaoyang District</td>\n",
       "      <td>China</td>\n",
       "      <td>Beijing</td>\n",
       "      <td>Beijing</td>\n",
       "      <td>100027</td>\n",
       "      <td>Sports bar with a stellar beer lineup.</td>\n",
       "      <td>NaN</td>\n",
       "      <td>A haven for sports fans, The Local boasts an i...</td>\n",
       "      <td>4.3</td>\n",
       "      <td>sports, beer, casual, outdoor, happy-hour</td>\n",
       "    </tr>\n",
       "  </tbody>\n",
       "</table>\n",
       "</div>"
      ],
      "text/plain": [
       "  Category Sub Category            Title  \\\n",
       "0     Dine         Bars       Atmosphere   \n",
       "1     Dine         Bars  Janes and Hooch   \n",
       "2     Dine         Bars           Centro   \n",
       "3     Dine         Bars        Long Jing   \n",
       "4     Dine         Bars        The Local   \n",
       "\n",
       "                                            Address Country    State     City  \\\n",
       "0  80F, China World Summit Wing, 1 Jianguomenwai St   China  Beijing  Beijing   \n",
       "1      Courtyard 4, Gongti Beilu, Chaoyang District   China  Beijing  Beijing   \n",
       "2       Lobby, Kerry Hotel, 1 Guanghua Rd, Chaoyang   China  Beijing  Beijing   \n",
       "3               2A Gongti Donglu, Chaoyang District   China  Beijing  Beijing   \n",
       "4      Courtyard 4, Gongti Beilu, Chaoyang District   China  Beijing  Beijing   \n",
       "\n",
       "   Postal Code                         Short Description  Images  \\\n",
       "0       100004  Sky-high cocktails with unmatched views.     NaN   \n",
       "1       100027         Speakeasy vibes with bold drinks.     NaN   \n",
       "2       100020               Jazz nights and giant G&Ts.     NaN   \n",
       "3       100027  Tea-infused cocktails in a chic setting.     NaN   \n",
       "4       100027    Sports bar with a stellar beer lineup.     NaN   \n",
       "\n",
       "                                    Long Description  Ratings  \\\n",
       "0  Perched on the 80th floor of the Shangri-La’s ...      4.8   \n",
       "1  Tucked away in Sanlitun’s buzzing nightlife hu...      4.5   \n",
       "2  Located in the Kerry Hotel’s lobby, Centro com...      4.6   \n",
       "3  By day a teahouse, Long Jing transforms into a...      4.4   \n",
       "4  A haven for sports fans, The Local boasts an i...      4.3   \n",
       "\n",
       "                                               Tags  \n",
       "0   sky-high, cocktails, romantic, business, luxury  \n",
       "1  speakeasy, cocktails, lively, vintage, nightlife  \n",
       "2        jazz, gin, elegant, relaxed, sophisticated  \n",
       "3      tea-infused, chic, diverse, patio, inclusive  \n",
       "4         sports, beer, casual, outdoor, happy-hour  "
      ]
     },
     "execution_count": 1,
     "metadata": {},
     "output_type": "execute_result"
    }
   ],
   "source": [
    "# import csv using pandas\n",
    "import pandas as pd\n",
    "\n",
    "# read the csv file\n",
    "movie_df = pd.read_csv('sample.csv')\n",
    "\n",
    "movie_df.head()"
   ]
  },
  {
   "cell_type": "markdown",
   "metadata": {},
   "source": [
    "- Now, we will create a movie database (db) using the data."
   ]
  },
  {
   "cell_type": "code",
   "execution_count": null,
   "metadata": {},
   "outputs": [
    {
     "data": {
      "text/plain": [
       "8"
      ]
     },
     "execution_count": 5,
     "metadata": {},
     "output_type": "execute_result"
    }
   ],
   "source": [
    "\n",
    "import sqlite3\n",
    "\n",
    "## Connect to SQlite\n",
    "connection=sqlite3.connect(\"sample.db\")\n",
    "\n",
    "# save into database\n",
    "movie_df.to_sql('Sample',connection)"
   ]
  },
  {
   "cell_type": "code",
   "execution_count": null,
   "metadata": {},
   "outputs": [
    {
     "name": "stdout",
     "output_type": "stream",
     "text": [
      "(0, 'Dine', 'Bars', 'Atmosphere', '80F, China World Summit Wing, 1 Jianguomenwai St', 'China', 'Beijing', 'Beijing', 100004, 'Sky-high cocktails with unmatched views.', None, 'Perched on the 80th floor of the Shangri-La’s China World Summit Wing, Atmosphere is Beijing’s highest bar, offering breathtaking panoramic views of the city skyline. Sip expertly crafted cocktails while soaking in the glamour of the CBD—perfect for impressing a date or sealing a deal. Clear days are a must to fully appreciate the vista.', 4.8, 'sky-high, cocktails, romantic, business, luxury')\n",
      "(1, 'Dine', 'Bars', 'Janes and Hooch', 'Courtyard 4, Gongti Beilu, Chaoyang District', 'China', 'Beijing', 'Beijing', 100027, 'Speakeasy vibes with bold drinks.', None, 'Tucked away in Sanlitun’s buzzing nightlife hub, Janes and Hooch channels a Prohibition-era speakeasy with its dim lighting, vintage decor, and inventive cocktails. Known for its strong pours and lively crowd, it’s a go-to for expats and locals alike. Arrive early—seats vanish fast.', 4.5, 'speakeasy, cocktails, lively, vintage, nightlife')\n",
      "(2, 'Dine', 'Bars', 'Centro', 'Lobby, Kerry Hotel, 1 Guanghua Rd, Chaoyang', 'China', 'Beijing', 'Beijing', 100020, 'Jazz nights and giant G&Ts.', None, 'Located in the Kerry Hotel’s lobby, Centro combines spacious elegance with live jazz performances every night. Their oversized gin and tonics are legendary, making it a sophisticated yet relaxed spot for unwinding after a long day in the capital.', 4.6, 'jazz, gin, elegant, relaxed, sophisticated')\n",
      "(3, 'Dine', 'Bars', 'Long Jing', '2A Gongti Donglu, Chaoyang District', 'China', 'Beijing', 'Beijing', 100027, 'Tea-infused cocktails in a chic setting.', None, 'By day a teahouse, Long Jing transforms into a cocktail haven at night, blending traditional Chinese teas into creative drinks. Its sunny patio and weekend DJ sets draw a diverse crowd, while Thursday’s gay night fosters a warm, inclusive vibe.', 4.4, 'tea-infused, chic, diverse, patio, inclusive')\n",
      "(4, 'Dine', 'Bars', 'The Local', 'Courtyard 4, Gongti Beilu, Chaoyang District', 'China', 'Beijing', 'Beijing', 100027, 'Sports bar with a stellar beer lineup.', None, 'A haven for sports fans, The Local boasts an impressive range of draught beers (including rare cider options) and hearty Western grub. Catch a game on their screens—call ahead to confirm—and enjoy happy hour from 4-8 PM daily. Outdoor seating adds charm on crisp evenings.', 4.3, 'sports, beer, casual, outdoor, happy-hour')\n",
      "(5, 'Dine', 'Bars', 'Hidden House', '39 Xingfu Ercun, Chaoyang District', 'China', 'Beijing', 'Beijing', 100027, 'Secretive cocktails in a hutong hideaway.', None, 'Nestled in a quiet hutong, Hidden House lives up to its name with an unmarked entrance and an air of mystery. Inside, mixologists craft bespoke cocktails with flair, making it a favorite for those in the know. Ideal for an intimate night out.', 4.7, 'hidden, cocktails, intimate, mysterious, hutong')\n",
      "(6, 'Dine', 'Bars', 'Mao Mao Chong', '12 Banchang Hutong, Dongcheng District', 'China', 'Beijing', 'Beijing', 100009, 'Artsy hutong bar with quirky drinks.', None, 'This cozy hutong gem blends rustic charm with a creative cocktail menu—think chili-infused concoctions and house-made bitters. The hand-painted murals and laid-back vibe make it a standout for artsy souls and expat regulars.', 4.5, 'artsy, quirky, cozy, hutong, creative')\n",
      "(7, 'Dine', 'Bars', 'D Lounge', '3 Gongti Beilu, Chaoyang District', 'China', 'Beijing', 'Beijing', 100027, 'Sleek design meets premium pours.', None, 'A Sanlitun staple, D Lounge’s minimalist decor and top-shelf spirits attract Beijing’s stylish set. Expect a curated cocktail list and a pulsating atmosphere as the night progresses—perfect for a chic evening with friends.', 4.6, 'sleek, premium, stylish, nightlife, chic')\n"
     ]
    }
   ],
   "source": [
    "# connect to the database\n",
    "connection = sqlite3.connect(\"sample.db\")\n",
    "\n",
    "# to see the table\n",
    "cursor = connection.cursor()\n",
    "cursor.execute('SELECT * FROM Sample')\n",
    "for row in cursor.fetchall():\n",
    "    print(row)  # it will print all rows in the table\n",
    "\n",
    "# close the connection\n",
    "connection\n",
    "connection.close()  # close the connection\n"
   ]
  },
  {
   "cell_type": "code",
   "execution_count": null,
   "metadata": {},
   "outputs": [
    {
     "name": "stdout",
     "output_type": "stream",
     "text": [
      "(0, 'Dine', 'Bars', 'Atmosphere', '80F, China World Summit Wing, 1 Jianguomenwai St', 'China', 'Beijing', 'Beijing', 100004, 'Sky-high cocktails with unmatched views.', None, 'Perched on the 80th floor of the Shangri-La’s China World Summit Wing, Atmosphere is Beijing’s highest bar, offering breathtaking panoramic views of the city skyline. Sip expertly crafted cocktails while soaking in the glamour of the CBD—perfect for impressing a date or sealing a deal. Clear days are a must to fully appreciate the vista.', 4.8, 'sky-high, cocktails, romantic, business, luxury')\n",
      "(1, 'Dine', 'Bars', 'Janes and Hooch', 'Courtyard 4, Gongti Beilu, Chaoyang District', 'China', 'Beijing', 'Beijing', 100027, 'Speakeasy vibes with bold drinks.', None, 'Tucked away in Sanlitun’s buzzing nightlife hub, Janes and Hooch channels a Prohibition-era speakeasy with its dim lighting, vintage decor, and inventive cocktails. Known for its strong pours and lively crowd, it’s a go-to for expats and locals alike. Arrive early—seats vanish fast.', 4.5, 'speakeasy, cocktails, lively, vintage, nightlife')\n",
      "(2, 'Dine', 'Bars', 'Centro', 'Lobby, Kerry Hotel, 1 Guanghua Rd, Chaoyang', 'China', 'Beijing', 'Beijing', 100020, 'Jazz nights and giant G&Ts.', None, 'Located in the Kerry Hotel’s lobby, Centro combines spacious elegance with live jazz performances every night. Their oversized gin and tonics are legendary, making it a sophisticated yet relaxed spot for unwinding after a long day in the capital.', 4.6, 'jazz, gin, elegant, relaxed, sophisticated')\n",
      "(3, 'Dine', 'Bars', 'Long Jing', '2A Gongti Donglu, Chaoyang District', 'China', 'Beijing', 'Beijing', 100027, 'Tea-infused cocktails in a chic setting.', None, 'By day a teahouse, Long Jing transforms into a cocktail haven at night, blending traditional Chinese teas into creative drinks. Its sunny patio and weekend DJ sets draw a diverse crowd, while Thursday’s gay night fosters a warm, inclusive vibe.', 4.4, 'tea-infused, chic, diverse, patio, inclusive')\n",
      "(4, 'Dine', 'Bars', 'The Local', 'Courtyard 4, Gongti Beilu, Chaoyang District', 'China', 'Beijing', 'Beijing', 100027, 'Sports bar with a stellar beer lineup.', None, 'A haven for sports fans, The Local boasts an impressive range of draught beers (including rare cider options) and hearty Western grub. Catch a game on their screens—call ahead to confirm—and enjoy happy hour from 4-8 PM daily. Outdoor seating adds charm on crisp evenings.', 4.3, 'sports, beer, casual, outdoor, happy-hour')\n"
     ]
    }
   ],
   "source": [
    "# to see 5 rows of the table\n",
    "connection = sqlite3.connect(\"sample.db\")\n",
    "cursor = connection.cursor()\n",
    "cursor.execute('SELECT * FROM Sample')\n",
    "for row in cursor.fetchmany(5):\n",
    "    print(row)  # it will print 5 rows in the table\n",
    "    \n",
    "# close the connection\n",
    "connection\n",
    "connection.close()  # close the connection\n"
   ]
  }
 ],
 "metadata": {
  "kernelspec": {
   "display_name": "llms",
   "language": "python",
   "name": "python3"
  },
  "language_info": {
   "codemirror_mode": {
    "name": "ipython",
    "version": 3
   },
   "file_extension": ".py",
   "mimetype": "text/x-python",
   "name": "python",
   "nbconvert_exporter": "python",
   "pygments_lexer": "ipython3",
   "version": "3.10.16"
  }
 },
 "nbformat": 4,
 "nbformat_minor": 2
}
