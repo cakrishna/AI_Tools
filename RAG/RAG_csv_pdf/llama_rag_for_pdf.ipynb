{
 "cells": [
  {
   "cell_type": "markdown",
   "metadata": {},
   "source": [
    "## OLLAMA RAG\n",
    "- Using OLLAMA & LLaMA to Analyze a Dataset or Document"
   ]
  },
  {
   "cell_type": "markdown",
   "metadata": {},
   "source": [
    "#### 1. Data Ingestion\n",
    "We begin by loading and chunking documents. For this demonstration, we use PyPDFLoader to load a PDF and split it into smaller, overlapping chunks for better retrieval accuracy."
   ]
  },
  {
   "cell_type": "code",
   "execution_count": 1,
   "metadata": {},
   "outputs": [],
   "source": [
    "from langchain.document_loaders import PyPDFLoader\n",
    "from langchain.text_splitter import CharacterTextSplitter\n",
    "\n",
    "# Load the document\n",
    "loader = PyPDFLoader(\"BillOfRights-US.pdf\")\n",
    "documents = loader.load()\n",
    "\n",
    "# Split the document into chunks\n",
    "text_splitter = CharacterTextSplitter(chunk_size=1000, chunk_overlap=30, separator=\"\\n\")\n",
    "docs = text_splitter.split_documents(documents=documents)"
   ]
  },
  {
   "cell_type": "markdown",
   "metadata": {},
   "source": [
    "#### Now let's load data from Codebasics FAQ csv file"
   ]
  },
  {
   "cell_type": "raw",
   "metadata": {
    "vscode": {
     "languageId": "raw"
    }
   },
   "source": [
    "from langchain.document_loaders.csv_loader import CSVLoader\n",
    "\n",
    "loader = CSVLoader(file_path='#.csv', source_column=\"prompt\")\n",
    "data = loader.load()\n",
    "# data"
   ]
  },
  {
   "cell_type": "markdown",
   "metadata": {},
   "source": [
    "### 2. Data Embedding and Storage with FAISS\n",
    "FAISS (Facebook AI Similarity Search) is a versatile and efficient library for vector similarity search. It enables scalable and fast retrieval of embeddings.\n",
    "\n",
    "Choosing the Embedding Model\n",
    "\n",
    "We use sentence-transformers/all-mpnet-base-v2, known for its robust performance across various text tasks. Alternatives like BGE or MiniLM can be used for specific trade-offs in speed vs. accuracy."
   ]
  },
  {
   "cell_type": "markdown",
   "metadata": {},
   "source": [
    "!pip install sentence-transformers"
   ]
  },
  {
   "cell_type": "code",
   "execution_count": 2,
   "metadata": {},
   "outputs": [
    {
     "name": "stderr",
     "output_type": "stream",
     "text": [
      "/tmp/ipykernel_503/305371053.py:7: LangChainDeprecationWarning: The class `HuggingFaceEmbeddings` was deprecated in LangChain 0.2.2 and will be removed in 1.0. An updated version of the class exists in the :class:`~langchain-huggingface package and should be used instead. To use it run `pip install -U :class:`~langchain-huggingface` and import as `from :class:`~langchain_huggingface import HuggingFaceEmbeddings``.\n",
      "  embeddings = HuggingFaceEmbeddings(\n",
      "/home/aks/miniconda3/envs/llms/lib/python3.10/site-packages/tqdm/auto.py:21: TqdmWarning: IProgress not found. Please update jupyter and ipywidgets. See https://ipywidgets.readthedocs.io/en/stable/user_install.html\n",
      "  from .autonotebook import tqdm as notebook_tqdm\n"
     ]
    }
   ],
   "source": [
    "from langchain.embeddings import HuggingFaceEmbeddings\n",
    "from langchain.vectorstores import FAISS\n",
    "\n",
    "# Load embedding model\n",
    "embedding_model_name = \"sentence-transformers/all-mpnet-base-v2\"\n",
    "model_kwargs = {\"device\": \"cuda\"}\n",
    "embeddings = HuggingFaceEmbeddings(\n",
    "    model_name=embedding_model_name,\n",
    "    model_kwargs=model_kwargs\n",
    ")\n",
    "\n",
    "# Create FAISS vector store\n",
    "vectorstore = FAISS.from_documents(docs, embeddings)\n",
    "\n",
    "# Save and reload the vector store\n",
    "vectorstore.save_local(\"faiss_index_\")\n",
    "persisted_vectorstore = FAISS.load_local(\"faiss_index_\", embeddings, allow_dangerous_deserialization=True)\n",
    "\n",
    "# Create a retriever\n",
    "retriever = persisted_vectorstore.as_retriever()"
   ]
  },
  {
   "cell_type": "markdown",
   "metadata": {},
   "source": [
    "### 3. Loading LLaMA with Ollama\n",
    "LLaMA (Large Language Model Meta AI) is a state-of-the-art model designed for versatile NLP tasks. Ollama simplifies deploying LLaMA models, even in constrained environments like Google Colab.\n",
    "\n",
    "Installing Ollama\n",
    "\n",
    "Run the following commands to install and set up Ollama:"
   ]
  },
  {
   "cell_type": "code",
   "execution_count": null,
   "metadata": {},
   "outputs": [],
   "source": [
    "# Initializing LLaMA\n",
    "# Using the LangChain Ollama integration, we load the LLaMA model:\n",
    "from langchain_community.llms import Ollama\n",
    "\n",
    "# Initialize the LLaMA model\n",
    "llm = Ollama(model=\"llama3.2\")\n",
    "\n",
    "# Test with a sample prompt\n",
    "response = llm.invoke(\"Tell me a joke\")\n",
    "print(response)"
   ]
  },
  {
   "cell_type": "raw",
   "metadata": {
    "vscode": {
     "languageId": "raw"
    }
   },
   "source": [
    "# we can use groq api too for thsi purpose\n",
    "# import LLAMA using Groq in langchain\n",
    "from langchain_groq import ChatGroq\n",
    "\n",
    "llm = ChatGroq(\n",
    "    temperature=0, \n",
    "    groq_api_key='YOU_API_KEY',\n",
    "    model_name=\"llama-3.3-70b-versatile\"\n",
    ")\n",
    "\n",
    "# Test with a sample prompt\n",
    "response = llm.invoke(\"Tell me a joke\")\n",
    "print(response)"
   ]
  },
  {
   "cell_type": "markdown",
   "metadata": {},
   "source": [
    "### 4. Orchestrating RAG with RetrievalQA\n",
    "We combine the retriever and LLaMA into a RetrievalQA chain. This allows for interactive question-answering grounded in the ingested documents."
   ]
  },
  {
   "cell_type": "code",
   "execution_count": 4,
   "metadata": {},
   "outputs": [],
   "source": [
    "from langchain.chains import RetrievalQA\n",
    "\n",
    "# Create RetrievalQA\n",
    "qa = RetrievalQA.from_chain_type(llm=llm, chain_type=\"stuff\", retriever=retriever)\n"
   ]
  },
  {
   "cell_type": "code",
   "execution_count": 5,
   "metadata": {},
   "outputs": [
    {
     "name": "stderr",
     "output_type": "stream",
     "text": [
      "/tmp/ipykernel_503/1292279828.py:1: LangChainDeprecationWarning: The method `Chain.__call__` was deprecated in langchain 0.1.0 and will be removed in 1.0. Use :meth:`~invoke` instead.\n",
      "  qa('what is first amandament says')\n"
     ]
    },
    {
     "data": {
      "text/plain": [
       "{'query': 'what is first amandament says',\n",
       " 'result': 'The First Amendment says:\\n\\n\"Congress shall make no law respecting an establishment of religion, or prohibiting the free exercise thereof; or abridging the freedom of speech, or of the press; or the right of the people peaceably to assemble, and to petition the Government for a redress of grievances.\"\\n\\nIn simpler terms, the First Amendment protects the following rights:\\n\\n1. Freedom of religion\\n2. Freedom of speech\\n3. Freedom of the press\\n4. Right to peaceful assembly\\n5. Right to petition the government for redress of grievances.'}"
      ]
     },
     "execution_count": 5,
     "metadata": {},
     "output_type": "execute_result"
    }
   ],
   "source": [
    "qa('what is first amandament says')"
   ]
  },
  {
   "cell_type": "code",
   "execution_count": 6,
   "metadata": {},
   "outputs": [
    {
     "data": {
      "text/plain": [
       "{'query': 'what is first amandament means',\n",
       " 'result': 'The First Amendment to the United States Constitution states:\\n\\n\"Congress shall make no law respecting an establishment of religion, or prohibiting the free exercise thereof; or abridging the freedom of speech, or of the press; or the right of the people peaceably to assemble, and to petition the Government for a redress of grievances.\"\\n\\nIn simpler terms, the First Amendment means that the government cannot:\\n\\n1. **Establish a national religion**: The government cannot create a law that favors one religion over another or forces people to practice a particular religion.\\n2. **Restrict the free exercise of religion**: People have the right to practice their own religion freely, as long as it doesn\\'t harm others.\\n3. **Limit freedom of speech**: People have the right to express their opinions, ideas, and thoughts without fear of government censorship or punishment.\\n4. **Restrict freedom of the press**: The government cannot control what is published in newspapers, magazines, or online.\\n5. **Prohibit peaceful assembly**: People have the right to gather peacefully to protest, demonstrate, or express their opinions.\\n6. **Deny the right to petition the government**: People have the right to ask the government to address their grievances or concerns.\\n\\nOverall, the First Amendment protects individual rights and freedoms, ensuring that people can express themselves, practice their faith, and assemble peacefully without fear of government interference.'}"
      ]
     },
     "execution_count": 6,
     "metadata": {},
     "output_type": "execute_result"
    }
   ],
   "source": [
    "qa('what is first amandament means')"
   ]
  },
  {
   "cell_type": "markdown",
   "metadata": {},
   "source": [
    "### FIN"
   ]
  }
 ],
 "metadata": {
  "kernelspec": {
   "display_name": "Python 3 (ipykernel)",
   "language": "python",
   "name": "python3"
  },
  "language_info": {
   "codemirror_mode": {
    "name": "ipython",
    "version": 3
   },
   "file_extension": ".py",
   "mimetype": "text/x-python",
   "name": "python",
   "nbconvert_exporter": "python",
   "pygments_lexer": "ipython3",
   "version": "3.10.16"
  }
 },
 "nbformat": 4,
 "nbformat_minor": 4
}
